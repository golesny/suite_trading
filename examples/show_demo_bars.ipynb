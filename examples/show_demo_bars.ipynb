{
 "cells": [
  {
   "cell_type": "code",
   "execution_count": null,
   "id": "c6c7184a-79fa-4054-9dc2-f26f940256a2",
   "metadata": {},
   "outputs": [],
   "source": [
    "import sys\n",
    "import os\n",
    "\n",
    "# Add the src directory to the Python path\n",
    "this_notebook_dir = os.getcwd()  # Get current working directory\n",
    "sys.path.append(os.path.abspath(os.path.join(this_notebook_dir, '..', 'src')))"
   ]
  },
  {
   "cell_type": "code",
   "execution_count": null,
   "id": "639b4fc0-8fbe-402d-afd0-cacea385c42d",
   "metadata": {},
   "outputs": [],
   "source": [
    "# Import necessary libraries\n",
    "from suite_trading.utils.data_generation.bars import create_bar_series\n",
    "import plotly.express as px\n",
    "import plotly.graph_objects as go\n",
    "import pandas as pd\n",
    "from datetime import datetime"
   ]
  },
  {
   "cell_type": "code",
   "execution_count": null,
   "id": "00ebd795-dc05-4bba-a199-b5a8708a28aa",
   "metadata": {
    "scrolled": true
   },
   "outputs": [],
   "source": [
    "# Generate 20 demo bars using the create_bar_series function\n",
    "bars = create_bar_series(count=20)\n",
    "bars"
   ]
  },
  {
   "cell_type": "code",
   "execution_count": null,
   "id": "5b8e02f4-e75c-409c-bb05-79d1372c68b1",
   "metadata": {},
   "outputs": [],
   "source": [
    "# Extract data from bars for visualization\n",
    "data = {\n",
    "    'date': [bar.end_dt for bar in bars],\n",
    "    'open': [float(bar.open) for bar in bars],\n",
    "    'high': [float(bar.high) for bar in bars],\n",
    "    'low': [float(bar.low) for bar in bars],\n",
    "    'close': [float(bar.close) for bar in bars],\n",
    "    'volume': [float(bar.volume) for bar in bars]\n",
    "}\n",
    "\n",
    "# Create a pandas DataFrame\n",
    "df = pd.DataFrame(data)\n",
    "\n",
    "# Create a candlestick chart using Plotly Graph Objects\n",
    "# (Plotly Express doesn't have a direct candlestick chart function)\n",
    "fig = go.Figure(data=[go.Candlestick(\n",
    "    x=df['date'],\n",
    "    open=df['open'],\n",
    "    high=df['high'],\n",
    "    low=df['low'],\n",
    "    close=df['close']\n",
    ")])\n",
    "\n",
    "# Update layout\n",
    "fig.update_layout(\n",
    "    title='Demo Bars Visualization',\n",
    "    xaxis_title='Date',\n",
    "    yaxis_title='Price',\n",
    "    xaxis_rangeslider_visible=False\n",
    ")\n",
    "\n",
    "# Display the figure\n",
    "fig.show()\n",
    "\n",
    "# If you want to use Plotly Express for a line chart of closing prices:\n",
    "fig_line = px.line(df, x='date', y='close', title='Closing Prices')\n",
    "fig_line.show()\n",
    "\n",
    "# For a volume bar chart:\n",
    "fig_volume = px.bar(df, x='date', y='volume', title='Trading Volume')\n",
    "fig_volume.show()"
   ]
  }
 ],
 "metadata": {
  "kernelspec": {
   "display_name": "Python 3 (ipykernel)",
   "language": "python",
   "name": "python3"
  },
  "language_info": {
   "codemirror_mode": {
    "name": "ipython",
    "version": 3
   },
   "file_extension": ".py",
   "mimetype": "text/x-python",
   "name": "python",
   "nbconvert_exporter": "python",
   "pygments_lexer": "ipython3",
   "version": "3.12.7"
  }
 },
 "nbformat": 4,
 "nbformat_minor": 5
}
