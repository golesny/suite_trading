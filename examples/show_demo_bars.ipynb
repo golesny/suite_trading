{
 "cells": [
  {
   "cell_type": "code",
   "execution_count": null,
   "id": "0",
   "metadata": {},
   "outputs": [],
   "source": [
    "import sys\n",
    "import os\n",
    "\n",
    "# Add the src directory to the Python path\n",
    "this_notebook_dir = os.getcwd()  # Get current working directory\n",
    "sys.path.append(os.path.abspath(os.path.join(this_notebook_dir, \"..\", \"src\")))"
   ]
  },
  {
   "cell_type": "code",
   "execution_count": null,
   "id": "1",
   "metadata": {},
   "outputs": [],
   "source": [
    "# Import necessary libraries\n",
    "from suite_trading.utils.data_generation.bars import create_bar_series\n",
    "import plotly.graph_objects as go\n",
    "import pandas as pd"
   ]
  },
  {
   "cell_type": "code",
   "execution_count": null,
   "id": "2",
   "metadata": {},
   "outputs": [],
   "source": [
    "# Generate 20 demo bars\n",
    "bars = create_bar_series(count=20)\n",
    "\n",
    "# Extract data from bars for visualization\n",
    "data = {\n",
    "    \"date\": [bar.end_dt for bar in bars],\n",
    "    \"open\": [float(bar.open) for bar in bars],\n",
    "    \"high\": [float(bar.high) for bar in bars],\n",
    "    \"low\": [float(bar.low) for bar in bars],\n",
    "    \"close\": [float(bar.close) for bar in bars],\n",
    "    \"volume\": [float(bar.volume) for bar in bars],\n",
    "}\n",
    "\n",
    "# Create a pandas DataFrame\n",
    "df = pd.DataFrame(data)\n",
    "\n",
    "# Create a candlestick chart using Plotly Graph Objects\n",
    "# (Plotly Express doesn't have a direct candlestick chart function)\n",
    "fig = go.Figure(data=[go.Candlestick(x=df[\"date\"], open=df[\"open\"], high=df[\"high\"], low=df[\"low\"], close=df[\"close\"])])\n",
    "\n",
    "# Update layout\n",
    "fig.update_layout(title=\"Demo Bars Visualization\", xaxis_title=\"Date\", yaxis_title=\"Price\", xaxis_rangeslider_visible=False, height=600)\n",
    "\n",
    "# Display the figure\n",
    "fig.show()"
   ]
  }
 ],
 "metadata": {
  "kernelspec": {
   "display_name": "Python 3 (ipykernel)",
   "language": "python",
   "name": "python3"
  },
  "language_info": {
   "codemirror_mode": {
    "name": "ipython",
    "version": 3
   },
   "file_extension": ".py",
   "mimetype": "text/x-python",
   "name": "python",
   "nbconvert_exporter": "python",
   "pygments_lexer": "ipython3",
   "version": "3.12.7"
  }
 },
 "nbformat": 4,
 "nbformat_minor": 5
}
